{
  "nbformat": 4,
  "nbformat_minor": 0,
  "metadata": {
    "colab": {
      "provenance": []
    },
    "kernelspec": {
      "name": "python3",
      "display_name": "Python 3"
    },
    "language_info": {
      "name": "python"
    }
  },
  "cells": [
    {
      "cell_type": "code",
      "source": [
        "!pip install tensorflow scikeras scikit-learn"
      ],
      "metadata": {
        "id": "dC--mjYOg2yg"
      },
      "execution_count": null,
      "outputs": []
    },
    {
      "cell_type": "code",
      "source": [
        "import pandas as pd\n",
        "import numpy as np\n",
        "import keras\n",
        "import tensorflow as tf\n",
        "from sklearn.impute import SimpleImputer\n",
        "from sklearn.preprocessing import OneHotEncoder\n",
        "import matplotlib.pyplot as plt\n",
        "import seaborn as sns\n",
        "from tensorflow.keras.layers import Input, Dense\n",
        "from tensorflow.keras.models import Model\n",
        "from keras.optimizers import Adam\n",
        "from sklearn.preprocessing import StandardScaler\n",
        "from sklearn.model_selection import GridSearchCV\n",
        "from sklearn.model_selection import StratifiedKFold\n",
        "from scikeras.wrappers import KerasClassifier\n",
        "from sklearn.ensemble import RandomForestClassifier\n",
        "from sklearn.model_selection import train_test_split\n",
        "from sklearn.metrics import make_scorer, roc_auc_score, accuracy_score\n",
        "from tensorflow.keras.optimizers import SGD\n",
        "from tensorflow.keras.optimizers import RMSprop\n",
        "from sklearn.preprocessing import LabelEncoder"
      ],
      "metadata": {
        "id": "3Am74NNXeBis"
      },
      "execution_count": 227,
      "outputs": []
    },
    {
      "cell_type": "code",
      "execution_count": 228,
      "metadata": {
        "colab": {
          "base_uri": "https://localhost:8080/"
        },
        "id": "pR8DQnA6c-Yx",
        "outputId": "ab775f9c-f085-4119-fc4f-e0c8b5783496"
      },
      "outputs": [
        {
          "output_type": "stream",
          "name": "stdout",
          "text": [
            "Drive already mounted at /content/drive; to attempt to forcibly remount, call drive.mount(\"/content/drive\", force_remount=True).\n"
          ]
        }
      ],
      "source": [
        "from google.colab import drive\n",
        "drive.mount('/content/drive')"
      ]
    },
    {
      "cell_type": "markdown",
      "source": [
        "#Extracting relevant features from the dataset"
      ],
      "metadata": {
        "id": "lBQpVFpZVe_F"
      }
    },
    {
      "cell_type": "code",
      "source": [
        "data = pd.read_csv('/content/drive/My Drive/Colab Notebooks/CustomerChurn_dataset.csv')"
      ],
      "metadata": {
        "id": "QRAqmEktd6zQ"
      },
      "execution_count": 229,
      "outputs": []
    },
    {
      "cell_type": "code",
      "source": [
        "data.head()"
      ],
      "metadata": {
        "id": "2yxYls938iz3"
      },
      "execution_count": null,
      "outputs": []
    },
    {
      "cell_type": "code",
      "source": [
        "data.info()"
      ],
      "metadata": {
        "id": "hkLqIa0mffJu"
      },
      "execution_count": null,
      "outputs": []
    },
    {
      "cell_type": "code",
      "source": [
        "data.replace(' ', np.nan, inplace=True)"
      ],
      "metadata": {
        "id": "0rqW9jMUOr2W"
      },
      "execution_count": 232,
      "outputs": []
    },
    {
      "cell_type": "code",
      "source": [
        "data.isnull().sum()"
      ],
      "metadata": {
        "id": "yvy3iUuxmBzt"
      },
      "execution_count": null,
      "outputs": []
    },
    {
      "cell_type": "code",
      "source": [
        "# Specify the column to impute missing values\n",
        "column_to_impute = 'TotalCharges'"
      ],
      "metadata": {
        "id": "OEkuyes7PPzI"
      },
      "execution_count": 234,
      "outputs": []
    },
    {
      "cell_type": "code",
      "source": [
        "imputer = SimpleImputer(strategy='mean')"
      ],
      "metadata": {
        "id": "Kw1KwRL0PccC"
      },
      "execution_count": 235,
      "outputs": []
    },
    {
      "cell_type": "code",
      "source": [
        "data[[column_to_impute]] = imputer.fit_transform(data[[column_to_impute]])"
      ],
      "metadata": {
        "id": "Gsz5E_4IPrta"
      },
      "execution_count": 236,
      "outputs": []
    },
    {
      "cell_type": "code",
      "source": [
        "data.drop('customerID', axis=1, inplace=True)"
      ],
      "metadata": {
        "id": "e5f1ISwPE8Ir"
      },
      "execution_count": 237,
      "outputs": []
    },
    {
      "cell_type": "code",
      "source": [
        "# Initialize LabelEncoder\n",
        "label_encoder = LabelEncoder()\n",
        "data['Churn'] = label_encoder.fit_transform(data['Churn'])"
      ],
      "metadata": {
        "id": "914GZp5__Vj1"
      },
      "execution_count": 238,
      "outputs": []
    },
    {
      "cell_type": "code",
      "source": [
        "# Split the data into features and target\n",
        "X = data.drop('Churn', axis=1)\n",
        "y = data['Churn']"
      ],
      "metadata": {
        "id": "5DTQHKW3jYId"
      },
      "execution_count": 239,
      "outputs": []
    },
    {
      "cell_type": "code",
      "source": [
        "categorical_columns = data.select_dtypes(include=['object']).columns\n",
        "\n",
        "# Display the categorical columns\n",
        "print(\"Categorical Columns:\")\n",
        "print(categorical_columns)"
      ],
      "metadata": {
        "id": "Na6MWREg4T3Y"
      },
      "execution_count": null,
      "outputs": []
    },
    {
      "cell_type": "code",
      "source": [
        "# Extract numerical columns\n",
        "numerical_columns = data.select_dtypes(include=['int64', 'float64']).columns\n",
        "\n",
        "# Display the numerical columns\n",
        "print(\"Numerical Columns:\")\n",
        "print(numerical_columns)"
      ],
      "metadata": {
        "id": "inldt20b4gZP"
      },
      "execution_count": null,
      "outputs": []
    },
    {
      "cell_type": "code",
      "source": [
        "# Define categorical and numerical columns\n",
        "categorical_cols = ['gender', 'Partner', 'Dependents', 'PhoneService',\n",
        "       'MultipleLines', 'InternetService', 'OnlineSecurity', 'OnlineBackup',\n",
        "       'DeviceProtection', 'TechSupport', 'StreamingTV', 'StreamingMovies',\n",
        "       'Contract', 'PaperlessBilling', 'PaymentMethod']\n",
        "numerical_cols = ['SeniorCitizen', 'tenure', 'MonthlyCharges', 'TotalCharges']\n",
        "\n",
        "# One-hot encode categorical columns\n",
        "df_encoded = pd.get_dummies(data[categorical_cols])\n",
        "\n",
        "# Concatenate one-hot encoded columns with numerical columns\n",
        "new_df = pd.concat([df_encoded, data[numerical_cols]], axis=1)\n",
        "\n",
        "new_df.head()"
      ],
      "metadata": {
        "id": "1zqFpn3t_BYp"
      },
      "execution_count": null,
      "outputs": []
    },
    {
      "cell_type": "code",
      "source": [
        "X=new_df"
      ],
      "metadata": {
        "id": "vy3HkwAWL8Sa"
      },
      "execution_count": 243,
      "outputs": []
    },
    {
      "cell_type": "code",
      "source": [
        "X_train, X_test, y_train, y_test = train_test_split(X, y, test_size=0.2, random_state=42)"
      ],
      "metadata": {
        "id": "8bRkoobnNdHl"
      },
      "execution_count": 244,
      "outputs": []
    },
    {
      "cell_type": "code",
      "source": [
        "rf_model = RandomForestClassifier(n_estimators=100, random_state=42)"
      ],
      "metadata": {
        "id": "pvKdIfy4NhLg"
      },
      "execution_count": 245,
      "outputs": []
    },
    {
      "cell_type": "code",
      "source": [
        "rf_model.fit(X_train, y_train)"
      ],
      "metadata": {
        "colab": {
          "base_uri": "https://localhost:8080/",
          "height": 75
        },
        "id": "EUasZn7hNlVU",
        "outputId": "26fb464b-52d2-4813-deb8-1b03ac3a74e0"
      },
      "execution_count": 246,
      "outputs": [
        {
          "output_type": "execute_result",
          "data": {
            "text/plain": [
              "RandomForestClassifier(random_state=42)"
            ],
            "text/html": [
              "<style>#sk-container-id-5 {color: black;background-color: white;}#sk-container-id-5 pre{padding: 0;}#sk-container-id-5 div.sk-toggleable {background-color: white;}#sk-container-id-5 label.sk-toggleable__label {cursor: pointer;display: block;width: 100%;margin-bottom: 0;padding: 0.3em;box-sizing: border-box;text-align: center;}#sk-container-id-5 label.sk-toggleable__label-arrow:before {content: \"▸\";float: left;margin-right: 0.25em;color: #696969;}#sk-container-id-5 label.sk-toggleable__label-arrow:hover:before {color: black;}#sk-container-id-5 div.sk-estimator:hover label.sk-toggleable__label-arrow:before {color: black;}#sk-container-id-5 div.sk-toggleable__content {max-height: 0;max-width: 0;overflow: hidden;text-align: left;background-color: #f0f8ff;}#sk-container-id-5 div.sk-toggleable__content pre {margin: 0.2em;color: black;border-radius: 0.25em;background-color: #f0f8ff;}#sk-container-id-5 input.sk-toggleable__control:checked~div.sk-toggleable__content {max-height: 200px;max-width: 100%;overflow: auto;}#sk-container-id-5 input.sk-toggleable__control:checked~label.sk-toggleable__label-arrow:before {content: \"▾\";}#sk-container-id-5 div.sk-estimator input.sk-toggleable__control:checked~label.sk-toggleable__label {background-color: #d4ebff;}#sk-container-id-5 div.sk-label input.sk-toggleable__control:checked~label.sk-toggleable__label {background-color: #d4ebff;}#sk-container-id-5 input.sk-hidden--visually {border: 0;clip: rect(1px 1px 1px 1px);clip: rect(1px, 1px, 1px, 1px);height: 1px;margin: -1px;overflow: hidden;padding: 0;position: absolute;width: 1px;}#sk-container-id-5 div.sk-estimator {font-family: monospace;background-color: #f0f8ff;border: 1px dotted black;border-radius: 0.25em;box-sizing: border-box;margin-bottom: 0.5em;}#sk-container-id-5 div.sk-estimator:hover {background-color: #d4ebff;}#sk-container-id-5 div.sk-parallel-item::after {content: \"\";width: 100%;border-bottom: 1px solid gray;flex-grow: 1;}#sk-container-id-5 div.sk-label:hover label.sk-toggleable__label {background-color: #d4ebff;}#sk-container-id-5 div.sk-serial::before {content: \"\";position: absolute;border-left: 1px solid gray;box-sizing: border-box;top: 0;bottom: 0;left: 50%;z-index: 0;}#sk-container-id-5 div.sk-serial {display: flex;flex-direction: column;align-items: center;background-color: white;padding-right: 0.2em;padding-left: 0.2em;position: relative;}#sk-container-id-5 div.sk-item {position: relative;z-index: 1;}#sk-container-id-5 div.sk-parallel {display: flex;align-items: stretch;justify-content: center;background-color: white;position: relative;}#sk-container-id-5 div.sk-item::before, #sk-container-id-5 div.sk-parallel-item::before {content: \"\";position: absolute;border-left: 1px solid gray;box-sizing: border-box;top: 0;bottom: 0;left: 50%;z-index: -1;}#sk-container-id-5 div.sk-parallel-item {display: flex;flex-direction: column;z-index: 1;position: relative;background-color: white;}#sk-container-id-5 div.sk-parallel-item:first-child::after {align-self: flex-end;width: 50%;}#sk-container-id-5 div.sk-parallel-item:last-child::after {align-self: flex-start;width: 50%;}#sk-container-id-5 div.sk-parallel-item:only-child::after {width: 0;}#sk-container-id-5 div.sk-dashed-wrapped {border: 1px dashed gray;margin: 0 0.4em 0.5em 0.4em;box-sizing: border-box;padding-bottom: 0.4em;background-color: white;}#sk-container-id-5 div.sk-label label {font-family: monospace;font-weight: bold;display: inline-block;line-height: 1.2em;}#sk-container-id-5 div.sk-label-container {text-align: center;}#sk-container-id-5 div.sk-container {/* jupyter's `normalize.less` sets `[hidden] { display: none; }` but bootstrap.min.css set `[hidden] { display: none !important; }` so we also need the `!important` here to be able to override the default hidden behavior on the sphinx rendered scikit-learn.org. See: https://github.com/scikit-learn/scikit-learn/issues/21755 */display: inline-block !important;position: relative;}#sk-container-id-5 div.sk-text-repr-fallback {display: none;}</style><div id=\"sk-container-id-5\" class=\"sk-top-container\"><div class=\"sk-text-repr-fallback\"><pre>RandomForestClassifier(random_state=42)</pre><b>In a Jupyter environment, please rerun this cell to show the HTML representation or trust the notebook. <br />On GitHub, the HTML representation is unable to render, please try loading this page with nbviewer.org.</b></div><div class=\"sk-container\" hidden><div class=\"sk-item\"><div class=\"sk-estimator sk-toggleable\"><input class=\"sk-toggleable__control sk-hidden--visually\" id=\"sk-estimator-id-5\" type=\"checkbox\" checked><label for=\"sk-estimator-id-5\" class=\"sk-toggleable__label sk-toggleable__label-arrow\">RandomForestClassifier</label><div class=\"sk-toggleable__content\"><pre>RandomForestClassifier(random_state=42)</pre></div></div></div></div></div>"
            ]
          },
          "metadata": {},
          "execution_count": 246
        }
      ]
    },
    {
      "cell_type": "code",
      "source": [
        "# Get feature importances\n",
        "feature_importances = rf_model.feature_importances_"
      ],
      "metadata": {
        "id": "pBfsea2zQg7j"
      },
      "execution_count": 247,
      "outputs": []
    },
    {
      "cell_type": "code",
      "source": [
        "# Create a DataFrame to display feature importances\n",
        "feature_importance_df = pd.DataFrame({'Feature': X.columns, 'Importance': feature_importances})"
      ],
      "metadata": {
        "id": "zr4ZphVpQs7i"
      },
      "execution_count": 248,
      "outputs": []
    },
    {
      "cell_type": "code",
      "source": [
        "# Sort the DataFrame by importance in descending order\n",
        "feature_importance_df = feature_importance_df.sort_values(by='Importance', ascending=False)"
      ],
      "metadata": {
        "id": "DKZdcy43Q3JP"
      },
      "execution_count": 249,
      "outputs": []
    },
    {
      "cell_type": "code",
      "source": [
        "# Display the feature importances\n",
        "print(feature_importance_df)"
      ],
      "metadata": {
        "id": "udVRWa2JQ6TS"
      },
      "execution_count": null,
      "outputs": []
    },
    {
      "cell_type": "code",
      "source": [
        "# Plot the feature importances\n",
        "plt.bar(feature_importance_df['Feature'], feature_importance_df['Importance'])\n",
        "plt.xlabel('Feature')\n",
        "plt.ylabel('Importance')\n",
        "plt.title('Random Forest Feature Importance')\n",
        "plt.xticks(rotation='vertical')\n",
        "plt.show()"
      ],
      "metadata": {
        "id": "3CrNtfBDRDkG"
      },
      "execution_count": null,
      "outputs": []
    },
    {
      "cell_type": "code",
      "source": [
        "threshold = 0.02  # Adjust the threshold as needed\n",
        "important_features = X.columns[feature_importances > threshold]\n",
        "X_selected = X[important_features]\n",
        "X_selected"
      ],
      "metadata": {
        "id": "TwejJdPIRV6D"
      },
      "execution_count": null,
      "outputs": []
    },
    {
      "cell_type": "code",
      "source": [
        "X=X_selected"
      ],
      "metadata": {
        "id": "DbHlnuLESaz7"
      },
      "execution_count": 188,
      "outputs": []
    },
    {
      "cell_type": "code",
      "source": [
        "# Standardize the data\n",
        "scaler = StandardScaler()\n",
        "scaler.fit(X)\n",
        "X_scaled = scaler.transform(X)"
      ],
      "metadata": {
        "id": "Bxs3tX7ATqEE"
      },
      "execution_count": 198,
      "outputs": []
    },
    {
      "cell_type": "markdown",
      "source": [
        "#Exploratory Data Analysis"
      ],
      "metadata": {
        "id": "WJlrmXm9WD1J"
      }
    },
    {
      "cell_type": "code",
      "source": [
        "X_selected.shape"
      ],
      "metadata": {
        "id": "7qb0hfIprxY3",
        "colab": {
          "base_uri": "https://localhost:8080/"
        },
        "outputId": "adeba8c7-62cd-4ccc-ea5f-77508a3bf96a"
      },
      "execution_count": 191,
      "outputs": [
        {
          "output_type": "execute_result",
          "data": {
            "text/plain": [
              "(7043, 8)"
            ]
          },
          "metadata": {},
          "execution_count": 191
        }
      ]
    },
    {
      "cell_type": "code",
      "source": [
        "# Summary statistics\n",
        "print(X_selected.describe())"
      ],
      "metadata": {
        "id": "vhfIsHUNWC_T"
      },
      "execution_count": null,
      "outputs": []
    },
    {
      "cell_type": "code",
      "source": [
        "# Pie chart for a single categorical variable\n",
        "plt.figure(figsize=(8, 8))\n",
        "data['Churn'].value_counts().plot(kind='pie', autopct='%1.1f%%', startangle=90, colors=['lightcoral', 'lightblue'])\n",
        "plt.title('Pie Chart for Churn')\n",
        "plt.show()"
      ],
      "metadata": {
        "id": "CUSNKNBBbeyi"
      },
      "execution_count": null,
      "outputs": []
    },
    {
      "cell_type": "markdown",
      "source": [
        "From this pie chart, less customers churn"
      ],
      "metadata": {
        "id": "c55b-aG9tg8i"
      }
    },
    {
      "cell_type": "code",
      "source": [
        "#Boxplot for the numerical variables\n",
        "numericals = ['TotalCharges', 'MonthlyCharges', 'tenure','Contract']\n",
        "\n",
        "fig, ax = plt.subplots(1, 3, figsize=(15,8))\n",
        "for variable, subplot in zip(numericals, ax.flatten()):\n",
        "  sns.boxplot(x=data['Churn'], y=new_df[variable], ax=subplot, palette='Set2').set_title(str(variable))"
      ],
      "metadata": {
        "id": "zg-KnvsSXhxx"
      },
      "execution_count": null,
      "outputs": []
    },
    {
      "cell_type": "code",
      "source": [
        "Categorical = ['Month-to-month', 'Two year', 'One year']\n",
        "\n",
        "sns.countplot(x=data['Contract'], hue=data['Churn'], palette = \"Set2\")"
      ],
      "metadata": {
        "id": "WFhbpjFmgOs0"
      },
      "execution_count": null,
      "outputs": []
    },
    {
      "cell_type": "markdown",
      "source": [
        "Customers who pay month to month can easily churn, however, those who paid for one year or two year contracts are less likely to churn. Hence, the people who pay month-to-month will churn a lot.\n"
      ],
      "metadata": {
        "id": "LF1WSlldlfcT"
      }
    },
    {
      "cell_type": "code",
      "source": [
        "Categorical = ['Electronic check', 'Mailed check', 'Bank transfer (automatic)','Credit card (automatic)']\n",
        "\n",
        "sns.countplot(x=data['PaymentMethod'], hue=data['Churn'], palette = \"Set2\")"
      ],
      "metadata": {
        "id": "Z6xesYFEgTZ-"
      },
      "execution_count": null,
      "outputs": []
    },
    {
      "cell_type": "markdown",
      "source": [
        "Customers who pay through Electric check are more likely to churn than those that pay with other methods."
      ],
      "metadata": {
        "id": "tQ7ikcNetW_7"
      }
    },
    {
      "cell_type": "markdown",
      "source": [
        "#Multi-Layer Perceptron model using the Functional API"
      ],
      "metadata": {
        "id": "LDHjZJHkmbLI"
      }
    },
    {
      "cell_type": "code",
      "source": [
        "X_train, X_test, y_train, y_test = train_test_split(X_scaled, y, test_size=0.2, random_state=42)"
      ],
      "metadata": {
        "id": "xbakRlGUZgOd"
      },
      "execution_count": 215,
      "outputs": []
    },
    {
      "cell_type": "code",
      "source": [
        "# Keras Functional API model\n",
        "def create_model(optimizer='adam',hidden_layer1_units=64,hidden_layer2_units=32):\n",
        "  input_layer = Input(shape=(X_train.shape[1],))\n",
        "  hidden_layer_1 = Dense(hidden_layer1_units, activation='relu')(input_layer)\n",
        "  hidden_layer_2 = Dense(hidden_layer2_units, activation='relu')(hidden_layer_1)\n",
        "  output_layer = Dense(1, activation='sigmoid')(hidden_layer_2)\n",
        "\n",
        "  model = Model(inputs=input_layer, outputs=output_layer)\n",
        "  model.compile(optimizer=optimizer, loss='binary_crossentropy', metrics=['accuracy'])\n",
        "  return model\n",
        "\n",
        "  # Wrap the Keras model using KerasClassifier\n",
        "model = KerasClassifier(model=create_model, epochs=10, batch_size=32, verbose=0, hidden_layer1_units=32, hidden_layer2_units=16)"
      ],
      "metadata": {
        "id": "--8EdWMBlyHV"
      },
      "execution_count": 216,
      "outputs": []
    },
    {
      "cell_type": "code",
      "source": [
        "# Define a parameter grid for grid search\n",
        "param_grid = {\n",
        "    'optimizer':['adam','sgd','rmsprop'],\n",
        "    'hidden_layer1_units':[32,64,128],\n",
        "    'hidden_layer2_units':[16,32,64]\n",
        "}\n",
        "\n",
        "auc_scorer=make_scorer(roc_auc_score, greater_is_better=True)\n",
        "# Use GridSearchCV to find the best parameters\n",
        "grid_search = GridSearchCV(estimator=model, param_grid=param_grid, scoring=auc_scorer, cv=StratifiedKFold(n_splits=5), verbose=1, error_score='raise')\n",
        "\n",
        "# Suppress TensorFlow warnings\n",
        "import warnings\n",
        "warnings.filterwarnings(\"ignore\", category=UserWarning, module=\"tensorflow\")\n",
        "\n",
        "grid_result = grid_search.fit(X_train, y_train)"
      ],
      "metadata": {
        "colab": {
          "base_uri": "https://localhost:8080/"
        },
        "id": "S-YSJ82nam-2",
        "outputId": "1625daab-c473-487a-bd74-9e962d6fc23b"
      },
      "execution_count": 218,
      "outputs": [
        {
          "output_type": "stream",
          "name": "stdout",
          "text": [
            "Fitting 5 folds for each of 27 candidates, totalling 135 fits\n"
          ]
        }
      ]
    },
    {
      "cell_type": "code",
      "source": [
        "print(f'Best Parameters: {grid_result.best_params_}')\n",
        "print(f'Best AUC Score: {grid_result.best_score_}')\n",
        "\n",
        "#Evaluate the best model on the test set\n",
        "best_model=grid_result.best_estimator_\n",
        "y_pred=best_model.predict(X_test)\n",
        "y_pred_binary=(y_pred>0.5).astype(int)\n",
        "accuracy_best=accuracy_score(y_test,y_pred_binary)\n",
        "auc_score_best=roc_auc_score(y_test,y_pred)\n",
        "print(f'Test Accuracy (Best Model): {accuracy_best}')\n",
        "print(f'AUC Score (Best Model): {auc_score_best}')"
      ],
      "metadata": {
        "id": "eklu3975asBS"
      },
      "execution_count": null,
      "outputs": []
    },
    {
      "cell_type": "markdown",
      "source": [
        "#Model Optimization"
      ],
      "metadata": {
        "id": "_TXExvCy5ZVV"
      }
    },
    {
      "cell_type": "code",
      "source": [
        "#Define the model using optimized hyperparameters\n",
        "\n",
        "input_layer = Input(shape=(X_train.shape[1],))\n",
        "hidden_layer_1 = Dense(128, activation='relu')(input_layer)\n",
        "hidden_layer_2 = Dense(32, activation='relu')(hidden_layer_1)\n",
        "output_layer = Dense(1, activation='sigmoid')(hidden_layer_2)\n",
        "\n",
        "optimized_model = Model(inputs=input_layer, outputs=output_layer)\n",
        "optimized_model.compile(optimizer=RMSprop(learning_rate=0.001, rho=0.9), loss='binary_crossentropy', metrics=['accuracy'])\n",
        "\n",
        "\n",
        "optimized_model.fit(X_train,y_train,epochs=10,batch_size=32,verbose=1)\n",
        "\n",
        "y_optimized_pred=best_model.predict(X_test)\n",
        "y_pred_optimized_binary=(y_pred>0.5).astype(int)\n",
        "\n",
        "accuracy_optimized=accuracy_score(y_test,y_pred_optimized_binary)\n",
        "auc_score_optimized=roc_auc_score(y_test,y_optimized_pred)\n",
        "\n",
        "print(f'Test Accuracy (Optimized Model): {accuracy_optimized}')\n",
        "print(f'AUC Score (Optimized Model): {auc_score_optimized}')"
      ],
      "metadata": {
        "id": "8bkQPrUWavdn"
      },
      "execution_count": null,
      "outputs": []
    },
    {
      "cell_type": "code",
      "source": [
        "import pickle\n",
        "\n",
        "#Define the file path where you want to save the model\n",
        "model = optimized_model\n",
        "\n",
        "with open('model.pkl', 'wb') as file:\n",
        "  pickle.dump(model, file)\n",
        "\n",
        "with open('scaler.pkl', 'wb') as scaler_file:\n",
        "  pickle.dump(scaler, scaler_file)\n",
        "\n",
        "with open('model.pkl', 'rb') as file:\n",
        "  loaded_model=pickle.load(file)\n",
        "\n",
        "with open('scaler.pkl', 'rb') as scaler_file:\n",
        "  loaded_scaler=pickle.load(scaler_file)"
      ],
      "metadata": {
        "id": "P5WbKd8V_Vzg"
      },
      "execution_count": 224,
      "outputs": []
    }
  ]
}